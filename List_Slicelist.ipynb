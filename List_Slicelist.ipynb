{
  "nbformat": 4,
  "nbformat_minor": 0,
  "metadata": {
    "colab": {
      "provenance": [],
      "toc_visible": true,
      "authorship_tag": "ABX9TyOkKzJpt8rO7ZwAGCyU28jU",
      "include_colab_link": true
    },
    "kernelspec": {
      "name": "python3",
      "display_name": "Python 3"
    },
    "language_info": {
      "name": "python"
    }
  },
  "cells": [
    {
      "cell_type": "markdown",
      "metadata": {
        "id": "view-in-github",
        "colab_type": "text"
      },
      "source": [
        "<a href=\"https://colab.research.google.com/github/VietPham1005/Python_Basic/blob/main/List_Slicelist.ipynb\" target=\"_parent\"><img src=\"https://colab.research.google.com/assets/colab-badge.svg\" alt=\"Open In Colab\"/></a>"
      ]
    },
    {
      "cell_type": "markdown",
      "source": [
        "# Cho list sau: mylist = ['one' , 'two' , 'three' , 'four' , 'five' , 'six' , 'seven' , 'eight']"
      ],
      "metadata": {
        "id": "azJ755Q6_E47"
      }
    },
    {
      "cell_type": "code",
      "source": [
        "mylist =['one','two','three','four','five','six','seven','eight']\n",
        "mylist"
      ],
      "metadata": {
        "colab": {
          "base_uri": "https://localhost:8080/"
        },
        "id": "44V3eaUQ_JO3",
        "outputId": "ee37b10a-93b9-4885-b862-9d181cd52b53"
      },
      "execution_count": 2,
      "outputs": [
        {
          "output_type": "execute_result",
          "data": {
            "text/plain": [
              "['one', 'two', 'three', 'four', 'five', 'six', 'seven', 'eight']"
            ]
          },
          "metadata": {},
          "execution_count": 2
        }
      ]
    },
    {
      "cell_type": "markdown",
      "source": [
        "# a. Copy list thành 1 list khác và gán thành mylist2"
      ],
      "metadata": {
        "id": "FQ-_PmHT_XNV"
      }
    },
    {
      "cell_type": "code",
      "source": [
        "mylist2 = mylist [:]\n",
        "print(mylist2)"
      ],
      "metadata": {
        "colab": {
          "base_uri": "https://localhost:8080/"
        },
        "id": "JOIZHQ_y_YE9",
        "outputId": "9c8889c0-d854-43ed-a310-8db13f22228f"
      },
      "execution_count": 4,
      "outputs": [
        {
          "output_type": "stream",
          "name": "stdout",
          "text": [
            "['one', 'two', 'three', 'four', 'five', 'six', 'seven', 'eight']\n"
          ]
        }
      ]
    },
    {
      "cell_type": "markdown",
      "source": [
        "# b. Trả về danh sách theo results(rs) sử dụng List slicer  "
      ],
      "metadata": {
        "id": "1Xt0egyeBHWx"
      }
    },
    {
      "cell_type": "code",
      "source": [
        "mylist = ['one', 'two', 'three', 'four', 'five', 'six', 'seven', 'eight']\n",
        "rs1 = mylist[0:3] # tương đương với rs1 = ['one', 'two', 'three']\n",
        "rs2 = mylist[3:] # tương đương với rs2 = ['four','five','six','seven','eight']\n",
        "rs3 = mylist[:3] # tương đương rs3 = ['one', 'two', 'three']\n",
        "rs4 = mylist[7]  # tương đương với rs4 = 'eight'\n",
        "print(rs1,rs2,rs3,rs4)"
      ],
      "metadata": {
        "colab": {
          "base_uri": "https://localhost:8080/"
        },
        "id": "v78d5nfZBLCg",
        "outputId": "88bdcd2e-f393-40ed-e8ca-3a6fa886e41b"
      },
      "execution_count": 12,
      "outputs": [
        {
          "output_type": "stream",
          "name": "stdout",
          "text": [
            "['one', 'two', 'three'] ['four', 'five', 'six', 'seven', 'eight'] ['one', 'two', 'three'] eight\n"
          ]
        }
      ]
    },
    {
      "cell_type": "markdown",
      "source": [
        "# c. Thêm 'nine' , 'ten' vào list"
      ],
      "metadata": {
        "id": "PtJMCs0fFOOn"
      }
    },
    {
      "cell_type": "code",
      "source": [
        "mylist = ['one', 'two', 'three', 'four', 'five', 'six', 'seven', 'eight']\n",
        "mylist.append('nine')\n",
        "mylist.append('ten')\n",
        "print(mylist)"
      ],
      "metadata": {
        "colab": {
          "base_uri": "https://localhost:8080/"
        },
        "id": "Kdjqp9nlFR4c",
        "outputId": "f42d889d-ecc7-48c5-83e1-c08e5a605254"
      },
      "execution_count": 17,
      "outputs": [
        {
          "output_type": "stream",
          "name": "stdout",
          "text": [
            "['one', 'two', 'three', 'four', 'five', 'six', 'seven', 'eight', 'nine', 'ten']\n"
          ]
        }
      ]
    },
    {
      "cell_type": "markdown",
      "source": [
        "# d. Xóa 'four' khỏi list"
      ],
      "metadata": {
        "id": "-84KF9K0F09I"
      }
    },
    {
      "cell_type": "code",
      "source": [
        "mylist = ['one', 'two', 'three', 'four', 'five', 'six', 'seven', 'eight']\n",
        "mylist.remove('four')\n",
        "mylist"
      ],
      "metadata": {
        "colab": {
          "base_uri": "https://localhost:8080/"
        },
        "id": "c1n_JuhUF64R",
        "outputId": "8170ba14-ca82-4627-a167-d289310f35bb"
      },
      "execution_count": 18,
      "outputs": [
        {
          "output_type": "execute_result",
          "data": {
            "text/plain": [
              "['one', 'two', 'three', 'five', 'six', 'seven', 'eight']"
            ]
          },
          "metadata": {},
          "execution_count": 18
        }
      ]
    },
    {
      "cell_type": "markdown",
      "source": [
        "# e. Xóa đi item ở vị trí thứ 6"
      ],
      "metadata": {
        "id": "gs_mKaJZGFPc"
      }
    },
    {
      "cell_type": "code",
      "source": [
        "mylist = ['one', 'two', 'three', 'four', 'five', 'six', 'seven', 'eight']\n",
        "mylist.pop(5)\n",
        "mylist"
      ],
      "metadata": {
        "colab": {
          "base_uri": "https://localhost:8080/"
        },
        "id": "HyJL7rS7GGAv",
        "outputId": "f492d383-c963-49e7-a808-9e9ae5ce3528"
      },
      "execution_count": 21,
      "outputs": [
        {
          "output_type": "execute_result",
          "data": {
            "text/plain": [
              "['one', 'two', 'three', 'four', 'five', 'seven', 'eight']"
            ]
          },
          "metadata": {},
          "execution_count": 21
        }
      ]
    },
    {
      "cell_type": "markdown",
      "source": [
        "# f.Thay đổi các giá gtri thành các giá trị : one : 1 , three: 3 , five: 5"
      ],
      "metadata": {
        "id": "MKLxzvJnGV5d"
      }
    },
    {
      "cell_type": "code",
      "source": [
        "mylist = ['one', 'two', 'three', 'four', 'five', 'six', 'seven', 'eight']\n",
        "mylist[0] = 1\n",
        "mylist[2] = 3\n",
        "mylist[4] = 5\n",
        "print(mylist)"
      ],
      "metadata": {
        "colab": {
          "base_uri": "https://localhost:8080/"
        },
        "id": "zWkFy8AsGbVw",
        "outputId": "26c01b3a-ec45-45b1-e602-941d0b340a7f"
      },
      "execution_count": 22,
      "outputs": [
        {
          "output_type": "stream",
          "name": "stdout",
          "text": [
            "[1, 'two', 3, 'four', 5, 'six', 'seven', 'eight']\n"
          ]
        }
      ]
    },
    {
      "cell_type": "markdown",
      "source": [
        "# g. Kiểm tra xem  'four' có nằm trong danh sách không? In ra màn hình \"có\" nếu tìm thấy, \"không\" nếu không tìm thấy."
      ],
      "metadata": {
        "id": "Dql2aev-GzfV"
      }
    },
    {
      "cell_type": "code",
      "source": [
        "mylist = ['one', 'two', 'three', 'four', 'five', 'six', 'seven', 'eight']\n",
        "if 'four' in mylist : print('Có')\n",
        "else : print ('không')"
      ],
      "metadata": {
        "colab": {
          "base_uri": "https://localhost:8080/"
        },
        "id": "1p7aE6F4G1DV",
        "outputId": "30e11335-29b4-45b9-8bdc-d179d90b3973"
      },
      "execution_count": 23,
      "outputs": [
        {
          "output_type": "stream",
          "name": "stdout",
          "text": [
            "Có\n"
          ]
        }
      ]
    },
    {
      "cell_type": "markdown",
      "source": [
        "# h. Kiểm tra xem one, seven có đồng thời nằm trong list không? Nếu không in ra màn hình \"cả 2 không đồng thời nằm trong list\" [ 'three', 'four', 'five', 'six', 'seven', 'eight']"
      ],
      "metadata": {
        "id": "FJO75JrjHVSP"
      }
    },
    {
      "cell_type": "code",
      "source": [
        "mylist = [ 'three', 'four', 'five', 'six', 'seven', 'eight']\n",
        "if 'one' in mylist and 'seven' in mylist : print('cả 2 trong list')\n",
        "elif 'one' in mylist : print('chỉ có one')\n",
        "elif 'seven' in mylist : print('chỉ có seven')\n",
        "else: print('không có')"
      ],
      "metadata": {
        "colab": {
          "base_uri": "https://localhost:8080/"
        },
        "id": "5FWAkr6YHkQz",
        "outputId": "b95d3285-5d06-4013-f597-3e519c5c9af8"
      },
      "execution_count": 24,
      "outputs": [
        {
          "output_type": "stream",
          "name": "stdout",
          "text": [
            "chỉ có seven\n"
          ]
        }
      ]
    },
    {
      "cell_type": "markdown",
      "source": [
        "# i.Cho list sau: mylist = [88,65,33,21,11,98], Sort mylist giảm dần , tăng dần"
      ],
      "metadata": {
        "id": "z0QB4rDNNKoL"
      }
    },
    {
      "cell_type": "code",
      "source": [
        "mylist = [88,65,33,21,11,98]\n",
        "mylist.sort(reverse=True)\n",
        "print(mylist)"
      ],
      "metadata": {
        "colab": {
          "base_uri": "https://localhost:8080/"
        },
        "id": "KG8KJnu7NOSA",
        "outputId": "9ef77209-0d3a-4268-a314-a24381e3ba99"
      },
      "execution_count": 26,
      "outputs": [
        {
          "output_type": "stream",
          "name": "stdout",
          "text": [
            "[98, 88, 65, 33, 21, 11]\n"
          ]
        }
      ]
    },
    {
      "cell_type": "code",
      "source": [
        "mylist = [88,65,33,21,11,98]\n",
        "mylist.sort(reverse=False)\n",
        "print(mylist)"
      ],
      "metadata": {
        "colab": {
          "base_uri": "https://localhost:8080/"
        },
        "id": "vzQuyZG1NpMq",
        "outputId": "029e0044-5dd8-4188-8e2b-91cd7d70f756"
      },
      "execution_count": 27,
      "outputs": [
        {
          "output_type": "stream",
          "name": "stdout",
          "text": [
            "[11, 21, 33, 65, 88, 98]\n"
          ]
        }
      ]
    }
  ]
}