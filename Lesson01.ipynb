{
  "nbformat": 4,
  "nbformat_minor": 0,
  "metadata": {
    "colab": {
      "provenance": [],
      "toc_visible": true,
      "authorship_tag": "ABX9TyMJerRGGt29oPgEyC/vyXoX",
      "include_colab_link": true
    },
    "kernelspec": {
      "name": "python3",
      "display_name": "Python 3"
    },
    "language_info": {
      "name": "python"
    }
  },
  "cells": [
    {
      "cell_type": "markdown",
      "metadata": {
        "id": "view-in-github",
        "colab_type": "text"
      },
      "source": [
        "<a href=\"https://colab.research.google.com/github/VietPham1005/Python_Basic/blob/main/Lesson01.ipynb\" target=\"_parent\"><img src=\"https://colab.research.google.com/assets/colab-badge.svg\" alt=\"Open In Colab\"/></a>"
      ]
    },
    {
      "cell_type": "markdown",
      "source": [
        "# Tạo List và Biến"
      ],
      "metadata": {
        "id": "pY2-F_qCMmZM"
      }
    },
    {
      "cell_type": "code",
      "execution_count": 11,
      "metadata": {
        "colab": {
          "base_uri": "https://localhost:8080/"
        },
        "id": "_WAc4mrSMd7u",
        "outputId": "f828c39f-0196-414b-c66a-a5c0b9841c33"
      },
      "outputs": [
        {
          "output_type": "stream",
          "name": "stdout",
          "text": [
            "số b: 8\n",
            "[1, 2, 3, 4, 5]\n",
            "8\n",
            "9\n",
            "8 9 81\n",
            "Hello World\n"
          ]
        }
      ],
      "source": [
        "a = [1,2,3,4,5]\n",
        "b = int(input(\"số b: \"))\n",
        "c = a[0] + b\n",
        "d = c*c\n",
        "print (a)\n",
        "print (b)\n",
        "print (c)\n",
        "print (b,c,d)\n",
        "print ('Hello World')\n"
      ]
    },
    {
      "cell_type": "markdown",
      "source": [
        "# Tạo list a = [1, 2, 4, 6, 8] và biến b, nếu b > 8 thì thêm b vào cuối dãy, các trường hợp còn lại thêm b vào vị trí thứ 3 của dãy."
      ],
      "metadata": {
        "id": "p_Eau413MpeG"
      }
    },
    {
      "cell_type": "code",
      "source": [
        "a = [1,2,4,6,8]\n",
        "b = int(input('nhập b: '))\n",
        "if b > 8 : a.append(b)\n",
        "else : a.insert(3,b)\n",
        "print (a)\n"
      ],
      "metadata": {
        "colab": {
          "base_uri": "https://localhost:8080/"
        },
        "id": "X10f52Smr8o7",
        "outputId": "47c0a305-f31e-4d3a-ce23-bb0e16e0ce80"
      },
      "execution_count": 12,
      "outputs": [
        {
          "output_type": "stream",
          "name": "stdout",
          "text": [
            "nhập b: 9\n",
            "[1, 2, 4, 6, 8, 9]\n"
          ]
        }
      ]
    },
    {
      "cell_type": "markdown",
      "source": [
        "# Tạo biến a, b sau đó tính tổng của a và b"
      ],
      "metadata": {
        "id": "C2jSNNpovJ2a"
      }
    },
    {
      "cell_type": "code",
      "source": [
        "a = int(input('nhập a: '))\n",
        "b = int(input('nhập b: '))\n",
        "c = a + b\n",
        "print (c)"
      ],
      "metadata": {
        "colab": {
          "base_uri": "https://localhost:8080/"
        },
        "id": "Rh8kXiv4vguZ",
        "outputId": "cc728c10-39b8-42fc-a662-f6beb6f503cc"
      },
      "execution_count": 13,
      "outputs": [
        {
          "output_type": "stream",
          "name": "stdout",
          "text": [
            "nhập a: 6\n",
            "nhập b: 8\n",
            "14\n"
          ]
        }
      ]
    },
    {
      "cell_type": "markdown",
      "source": [
        "# Tạo biến x được nhập giá trị từ màn hình, in ra kết quả bình phương của"
      ],
      "metadata": {
        "id": "RdIGocXnwFXN"
      }
    },
    {
      "cell_type": "code",
      "source": [
        "x = int(input('nhập x: '))\n",
        "x*x\n"
      ],
      "metadata": {
        "colab": {
          "base_uri": "https://localhost:8080/"
        },
        "id": "OWXnqoOWwIi3",
        "outputId": "37ba49ab-b5ae-4ed9-c81b-6d088a331b74"
      },
      "execution_count": 14,
      "outputs": [
        {
          "name": "stdout",
          "output_type": "stream",
          "text": [
            "nhập x: 9\n"
          ]
        },
        {
          "output_type": "execute_result",
          "data": {
            "text/plain": [
              "81"
            ]
          },
          "metadata": {},
          "execution_count": 14
        }
      ]
    },
    {
      "cell_type": "markdown",
      "source": [
        "# Kiểm tra a có lớn hơn b hay không? Và in ra màn hình kết quả của việc kiểm tra. Vd: a lớn hơn b."
      ],
      "metadata": {
        "id": "dYhJKEPPw1et"
      }
    },
    {
      "cell_type": "code",
      "source": [
        "a = int(input('nhập a '))\n",
        "b = int(input('nhập b '))\n",
        "if a>b : print ('a lớn hơn b')\n",
        "elif a==b : print ('a bằng b')\n",
        "else: print ('a nhỏ hơn b')"
      ],
      "metadata": {
        "colab": {
          "base_uri": "https://localhost:8080/"
        },
        "id": "J-AET88Bw2z4",
        "outputId": "0fc6bb0b-f02e-4a5b-c091-60fa4ccd743b"
      },
      "execution_count": 17,
      "outputs": [
        {
          "output_type": "stream",
          "name": "stdout",
          "text": [
            "nhập a 7\n",
            "nhập b 7\n",
            "a bằng b\n"
          ]
        }
      ]
    },
    {
      "cell_type": "markdown",
      "source": [
        "# Tạo biến x(số tuổi), giá trị của x được nhập vào từ bàn phím. Người dung có thể nhập tháng hoặc năm cho giá trị của x. Kiểm tra xem x thuộc nhóm tuổi nào. (0 -12 tháng: trẻ sơ sinh, 1–6 tuổi: trẻ em, 6–11: học sinh tiểu học, 12-18 tuổi: học tinh trung học, >18 tuổi: người lớn )"
      ],
      "metadata": {
        "id": "HS6_Yr6wzycb"
      }
    },
    {
      "cell_type": "code",
      "source": [
        "option = str(input('nhập Tháng bấm (T) - nhập năm bấm (N)'))\n",
        "if option == 'T' :\n",
        "   value = int(input('nhập tháng sinh vào đây'))\n",
        "   Age = value/12\n",
        "elif option == 'N' :\n",
        "   value = int(input('nhập năm sinh vào đây'))\n",
        "   Age = value\n",
        "if Age < 1 : print('sơ sinh')\n",
        "elif Age < 5 : print('Tiểu học')\n",
        "elif Age >5 and Age < 18 : print('Đi học')\n",
        "else : print('trưởng thành')"
      ],
      "metadata": {
        "colab": {
          "base_uri": "https://localhost:8080/"
        },
        "id": "u7kvLohxz2EI",
        "outputId": "8bac7072-8ecf-4afb-c539-1751d456f46a"
      },
      "execution_count": 22,
      "outputs": [
        {
          "output_type": "stream",
          "name": "stdout",
          "text": [
            "nhập Tháng bấm (T) - nhập năm bấm (N)N\n",
            "nhập năm sinh vào đây7\n",
            "Đi học\n"
          ]
        }
      ]
    },
    {
      "cell_type": "markdown",
      "source": [
        "# Nhập vào giá trị của 3 biến a,b,c. Kiểm tra liệu 3 giá trị này có phải 3 cạnh của một tam giác?"
      ],
      "metadata": {
        "id": "Le1KbdFk3AQL"
      }
    },
    {
      "cell_type": "code",
      "source": [
        "a = int(input('nhập a = '))\n",
        "b = int(input('nhập b = '))\n",
        "c = int(input('nhập c = '))\n",
        "if a+b>c and a+c>b and b+c>a : print('là tam giác')\n",
        "else: print('không phải tam giác')"
      ],
      "metadata": {
        "colab": {
          "base_uri": "https://localhost:8080/"
        },
        "id": "3CHSVMDK3Fgn",
        "outputId": "7f75a49e-b027-4e2b-b5da-d3a202249e3e"
      },
      "execution_count": 25,
      "outputs": [
        {
          "output_type": "stream",
          "name": "stdout",
          "text": [
            "nhập a = 1\n",
            "nhập b = 2\n",
            "nhập c = 3\n",
            "không phải tam giác\n"
          ]
        }
      ]
    }
  ]
}