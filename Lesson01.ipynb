{
  "nbformat": 4,
  "nbformat_minor": 0,
  "metadata": {
    "colab": {
      "provenance": [],
      "toc_visible": true,
      "authorship_tag": "ABX9TyMsGWPNW+DW+vgQmP4xCbrR",
      "include_colab_link": true
    },
    "kernelspec": {
      "name": "python3",
      "display_name": "Python 3"
    },
    "language_info": {
      "name": "python"
    }
  },
  "cells": [
    {
      "cell_type": "markdown",
      "metadata": {
        "id": "view-in-github",
        "colab_type": "text"
      },
      "source": [
        "<a href=\"https://colab.research.google.com/github/VietPham1005/Python_Basic/blob/main/Lesson01.ipynb\" target=\"_parent\"><img src=\"https://colab.research.google.com/assets/colab-badge.svg\" alt=\"Open In Colab\"/></a>"
      ]
    },
    {
      "cell_type": "markdown",
      "source": [
        "# Tạo List và Biến"
      ],
      "metadata": {
        "id": "pY2-F_qCMmZM"
      }
    },
    {
      "cell_type": "code",
      "execution_count": 11,
      "metadata": {
        "colab": {
          "base_uri": "https://localhost:8080/"
        },
        "id": "_WAc4mrSMd7u",
        "outputId": "f828c39f-0196-414b-c66a-a5c0b9841c33"
      },
      "outputs": [
        {
          "output_type": "stream",
          "name": "stdout",
          "text": [
            "số b: 8\n",
            "[1, 2, 3, 4, 5]\n",
            "8\n",
            "9\n",
            "8 9 81\n",
            "Hello World\n"
          ]
        }
      ],
      "source": [
        "a = [1,2,3,4,5]\n",
        "b = int(input(\"số b: \"))\n",
        "c = a[0] + b\n",
        "d = c*c\n",
        "print (a)\n",
        "print (b)\n",
        "print (c)\n",
        "print (b,c,d)\n",
        "print ('Hello World')\n"
      ]
    },
    {
      "cell_type": "markdown",
      "source": [
        "# 1.Tạo list a = [1, 2, 4, 6, 8] và biến b, nếu b > 8 thì thêm b vào cuối dãy, các trường hợp còn lại thêm b vào vị trí thứ 3 của dãy."
      ],
      "metadata": {
        "id": "p_Eau413MpeG"
      }
    },
    {
      "cell_type": "code",
      "source": [
        "a = [1,2,4,6,8]\n",
        "b = int(input('nhập b: '))\n",
        "if b > 8 : a.append(b)\n",
        "else : a.insert(3,b)\n",
        "print (a)\n"
      ],
      "metadata": {
        "colab": {
          "base_uri": "https://localhost:8080/"
        },
        "id": "X10f52Smr8o7",
        "outputId": "47c0a305-f31e-4d3a-ce23-bb0e16e0ce80"
      },
      "execution_count": 12,
      "outputs": [
        {
          "output_type": "stream",
          "name": "stdout",
          "text": [
            "nhập b: 9\n",
            "[1, 2, 4, 6, 8, 9]\n"
          ]
        }
      ]
    }
  ]
}